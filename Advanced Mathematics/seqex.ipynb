{
 "cells": [
  {
   "cell_type": "markdown",
   "metadata": {},
   "source": [
    "# 数列极限\n",
    "\n",
    "## 极限\n",
    "\n",
    "极限的定义: 存在一个常数A，使得 lim( n -> ∞ ) an = A\n",
    "\n",
    "我们都知道 1/n 随 n->∞ 时取值趋向无穷小但大于 0 ,因此极限为 0\n",
    "\n",
    "同理, n/n+1 在考虑 n 足够大可忽略 1 的情况下趋向 1 但永远不等于 1 ,因此极限为 1\n",
    "\n",
    "总而言之,极限便是'无限接近'\n",
    "\n",
    "### 极限存在性问题\n",
    "\n",
    "2^n -> +∞ ，不存在极限\n",
    "\n",
    "数列极限是针对无穷数列而言，有穷数列不存在极限（无穷 != 无界）\n",
    "\n",
    "周期性变化的数列( (-1)^n )也同样不存在极限\n",
    "\n",
    "### 数列\n",
    "\n",
    "x1,x2,x3...xn... -> {xn}∞ 1\n",
    "\n",
    "第n项xn称为一般项"
   ]
  },
  {
   "cell_type": "code",
   "execution_count": 15,
   "metadata": {},
   "outputs": [
    {
     "name": "stdout",
     "output_type": "stream",
     "text": [
      "1\n",
      "0\n"
     ]
    }
   ],
   "source": [
    "#极限示例\n",
    "\n",
    "from typing import Callable,Union\n",
    "\n",
    "\n",
    "big_num = 2^10\n",
    "negative_big_num = -2^10\n",
    "\n",
    "#根据大数来进行的低精度求极限\n",
    "def extreme(func:Callable[[Union[int,float]],int]) -> int:\n",
    "    return round(func(big_num))\n",
    "\n",
    "print(extreme(lambda x: x/(x+1)))\n",
    "print(extreme(lambda x: 1/x))"
   ]
  },
  {
   "cell_type": "markdown",
   "metadata": {},
   "source": [
    "### 放缩(?)证明极限\n",
    "\n",
    "对于某些分数表达式，我们可以寻找大小关系来进行放缩从而求极限\n",
    "\n",
    "例如\n",
    "\n",
    "## 收敛数列/发散数列\n",
    "\n",
    "\n"
   ]
  }
 ],
 "metadata": {
  "kernelspec": {
   "display_name": "Python 3.8.10 64-bit",
   "language": "python",
   "name": "python3"
  },
  "language_info": {
   "codemirror_mode": {
    "name": "ipython",
    "version": 3
   },
   "file_extension": ".py",
   "mimetype": "text/x-python",
   "name": "python",
   "nbconvert_exporter": "python",
   "pygments_lexer": "ipython3",
   "version": "3.8.10"
  },
  "orig_nbformat": 4,
  "vscode": {
   "interpreter": {
    "hash": "e0144baad0ecee903f108a3e46e51ceadd7da3fc904cfa79747d813b61464b4e"
   }
  }
 },
 "nbformat": 4,
 "nbformat_minor": 2
}
